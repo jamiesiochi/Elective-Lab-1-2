{
  "nbformat": 4,
  "nbformat_minor": 0,
  "metadata": {
    "colab": {
      "name": "Introduction to Phyton.ipynb",
      "provenance": [],
      "authorship_tag": "ABX9TyMsXLqfOj92awyrD30wGa8+",
      "include_colab_link": true
    },
    "kernelspec": {
      "name": "python3",
      "display_name": "Python 3"
    },
    "language_info": {
      "name": "python"
    }
  },
  "cells": [
    {
      "cell_type": "markdown",
      "metadata": {
        "id": "view-in-github",
        "colab_type": "text"
      },
      "source": [
        "<a href=\"https://colab.research.google.com/github/jamiesiochi/Elective-Lab-1-2/blob/main/Introduction_to_Phyton.ipynb\" target=\"_parent\"><img src=\"https://colab.research.google.com/assets/colab-badge.svg\" alt=\"Open In Colab\"/></a>"
      ]
    },
    {
      "cell_type": "markdown",
      "source": [
        "##Phyton Indentation"
      ],
      "metadata": {
        "id": "9NxozKiNZGaQ"
      }
    },
    {
      "cell_type": "code",
      "execution_count": 2,
      "metadata": {
        "colab": {
          "base_uri": "https://localhost:8080/"
        },
        "id": "p0__MqcHYmrC",
        "outputId": "c1b862eb-595c-4d9b-c2ee-f2dce2546d0a"
      },
      "outputs": [
        {
          "output_type": "stream",
          "name": "stdout",
          "text": [
            "x is greater than y\n"
          ]
        }
      ],
      "source": [
        "x=27\n",
        "y=22\n",
        "\n",
        "if x>y:\n",
        "  print(\"x is greater than y\")"
      ]
    },
    {
      "cell_type": "code",
      "source": [
        "if 27>22:         #This is a comparison between 22 and 27\n",
        "  print(\"27 is greater than 22\")\n",
        "\n",
        "if 22>27:\n",
        "  print(\"27 is greater than 22\")\n",
        "else:\n",
        "  print(\"22 is less than 27\")"
      ],
      "metadata": {
        "colab": {
          "base_uri": "https://localhost:8080/"
        },
        "id": "rdHy4Nd4aAjt",
        "outputId": "016bd8ef-7676-4665-a22a-f148f6a5fad0"
      },
      "execution_count": 7,
      "outputs": [
        {
          "output_type": "stream",
          "name": "stdout",
          "text": [
            "27 is greater than 22\n",
            "22 is less than 27\n"
          ]
        }
      ]
    },
    {
      "cell_type": "code",
      "source": [
        "x = 'Jamie'\n",
        "y = 5.5\n",
        "z = 3\n",
        "\n",
        "print(x)\n",
        "print(y)\n",
        "print(z)"
      ],
      "metadata": {
        "colab": {
          "base_uri": "https://localhost:8080/"
        },
        "id": "cJj90QUCa6zc",
        "outputId": "5dad201e-298d-42e9-ada3-5f1901e28b87"
      },
      "execution_count": 17,
      "outputs": [
        {
          "output_type": "stream",
          "name": "stdout",
          "text": [
            "Jamie\n",
            "5.5\n",
            "3\n"
          ]
        }
      ]
    },
    {
      "cell_type": "code",
      "source": [
        "print(type(x))\n",
        "print(type(y))\n",
        "print(type(z))"
      ],
      "metadata": {
        "colab": {
          "base_uri": "https://localhost:8080/"
        },
        "id": "mW1Voa1MbGpt",
        "outputId": "dc9b0f77-0855-453d-ee25-e42c24f8dfdb"
      },
      "execution_count": 16,
      "outputs": [
        {
          "output_type": "stream",
          "name": "stdout",
          "text": [
            "<class 'str'>\n",
            "<class 'float'>\n",
            "<class 'int'>\n"
          ]
        }
      ]
    }
  ]
}